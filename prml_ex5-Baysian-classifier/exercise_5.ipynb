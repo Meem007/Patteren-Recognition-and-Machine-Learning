{
 "cells": [
  {
   "cell_type": "markdown",
   "id": "7d6a8c5f",
   "metadata": {},
   "source": [
    "### Bayesian classification using the normal distribution to model class conditional probabilities\n",
    "\n",
    "#### Steps:\n",
    "\n",
    "1. Read Data\n",
    "2. Visualizaation of data\n",
    "3. Sort data into classes \n",
    "4. Calculate priors\n",
    "5. create PDFs for each classes\n",
    "6. calculate the independent conditional probability\n",
    "7. Predction usisng Given data\n",
    "\n",
    "Note : I perform two data for  my better understanding in python; also I have done this bayesian classification in  matlab program with one data.\n"
   ]
  },
  {
   "cell_type": "code",
   "execution_count": 257,
   "id": "318f6a50",
   "metadata": {},
   "outputs": [],
   "source": [
    "#Library\n",
    "import scipy.io\n",
    "import pandas as pd\n",
    "from scipy.stats import norm\n",
    "from numpy import mean\n",
    "from numpy import std\n",
    "import numpy as np\n",
    "import matplotlib.pyplot as plt\n",
    "from sklearn.metrics import accuracy_score\n",
    "from sklearn.metrics import confusion_matrix, ConfusionMatrixDisplay"
   ]
  },
  {
   "cell_type": "markdown",
   "id": "656a1b22",
   "metadata": {},
   "source": [
    "#### Reading data file "
   ]
  },
  {
   "cell_type": "code",
   "execution_count": 224,
   "id": "511b6f02",
   "metadata": {},
   "outputs": [
    {
     "data": {
      "text/plain": [
       "{'__header__': b'MATLAB 5.0 MAT-file, Platform: GLNX86, Created on: Fri Feb  9 13:52:02 2001',\n",
       " '__version__': '1.0',\n",
       " '__globals__': [],\n",
       " 'mu': array([[1.452, 4.332, 5.544],\n",
       "        [0.24 , 1.36 , 1.992]]),\n",
       " 'Sigma': array([[[0.03010612, 0.22081633, 0.30458776],\n",
       "         [0.00569796, 0.07310204, 0.04882449]],\n",
       " \n",
       "        [[0.00569796, 0.07310204, 0.04882449],\n",
       "         [0.01149388, 0.03910612, 0.07543265]]]),\n",
       " 'data': array([[4. , 5.1, 3.9, 1.4, 1.6, 1.4, 1.3, 1.4, 3.3, 1.4, 4.6, 1.3, 1.5,\n",
       "         5.1, 1.6, 1.7, 1.5, 5.6, 4.7, 1.6, 4.8, 5.9, 1.9, 4.5, 4. , 5. ,\n",
       "         1.5, 1.4, 5.6, 1.1, 1.4, 3.5, 5.1, 4.3, 1.3, 1.5, 5.1, 3.6, 1.3,\n",
       "         1.2, 4.2, 1.5, 4.4, 1.5, 4.9, 6.7, 4.5, 4.8, 1.7, 4. , 5.1, 1.3,\n",
       "         6.3, 4.8, 6. , 1.7, 5. , 4.6, 6.7, 4.2, 4.4, 4.9, 5.9, 3.8, 4.9,\n",
       "         4.9, 4.7, 1. , 4.7, 1.5, 1.4, 1.5, 4.5, 4.6, 4.5, 1.4, 5.4, 5.1,\n",
       "         3.9, 6.4, 5.3, 4.2, 1.6, 5.8, 5.7, 5.5, 1.2, 4.5, 5.6, 1.5, 1.5,\n",
       "         5.8, 3. , 5.7, 1.4, 5. , 1.9, 4.4, 3.3, 5.7, 6.9, 5.1, 4.1, 5. ,\n",
       "         1.6, 1.4, 4.4, 1.5, 4. , 4.9, 1.6, 6.1, 4.8, 1.5, 6.1, 1.7, 1.5,\n",
       "         6.1, 4.1, 4.3, 5.6, 5.6, 5.8, 1.3, 5.5, 5.1, 4. , 5.2, 6. , 1.6,\n",
       "         4.5, 3.7, 1.3, 3.9, 4.5, 4.7, 4.7, 1.4, 4.1, 5.3, 1.5, 6.6, 5.5,\n",
       "         3.5, 5.4, 4.5, 5.6, 4.2, 1.4, 5.2],\n",
       "        [1.3, 1.9, 1.1, 0.2, 0.2, 0.1, 0.2, 0.2, 1. , 0.2, 1.4, 0.2, 0.4,\n",
       "         1.8, 0.6, 0.2, 0.2, 2.4, 1.6, 0.2, 1.8, 2.3, 0.2, 1.5, 1. , 1.7,\n",
       "         0.2, 0.2, 1.4, 0.1, 0.3, 1. , 2. , 1.3, 0.3, 0.1, 2.4, 1.3, 0.3,\n",
       "         0.2, 1.5, 0.1, 1.2, 0.2, 1.5, 2.2, 1.5, 1.4, 0.5, 1.3, 1.9, 0.4,\n",
       "         1.8, 1.8, 2.5, 0.4, 1.5, 1.5, 2. , 1.3, 1.3, 1.8, 2.1, 1.1, 1.8,\n",
       "         1.5, 1.4, 0.2, 1.5, 0.4, 0.2, 0.4, 1.6, 1.3, 1.5, 0.2, 2.1, 1.5,\n",
       "         1.2, 2. , 2.3, 1.2, 0.2, 1.6, 2.5, 2.1, 0.2, 1.3, 2.1, 0.2, 0.1,\n",
       "         1.8, 1.1, 2.3, 0.3, 2. , 0.4, 1.4, 1. , 2.1, 2.3, 2.3, 1. , 1.9,\n",
       "         0.2, 0.3, 1.4, 0.3, 1.2, 2. , 0.4, 2.3, 1.8, 0.1, 1.9, 0.3, 0.2,\n",
       "         2.5, 1.3, 1.3, 1.8, 2.2, 2.2, 0.2, 1.8, 1.6, 1.3, 2.3, 1.8, 0.2,\n",
       "         1.7, 1. , 0.2, 1.4, 1.5, 1.4, 1.2, 0.2, 1.3, 1.9, 0.2, 2.1, 1.8,\n",
       "         1. , 2.3, 1.5, 2.4, 1.3, 0.2, 2. ]]),\n",
       " 'classes': array([[2, 3, 2, 1, 1, 1, 1, 1, 2, 1, 2, 1, 1, 3, 1, 1, 1, 3, 2, 1, 2, 3,\n",
       "         1, 2, 2, 2, 1, 1, 3, 1, 1, 2, 3, 2, 1, 1, 3, 2, 1, 1, 2, 1, 2, 1,\n",
       "         2, 3, 2, 2, 1, 2, 3, 1, 3, 3, 3, 1, 3, 2, 3, 2, 2, 3, 3, 2, 3, 2,\n",
       "         2, 1, 2, 1, 1, 1, 2, 2, 2, 1, 3, 3, 2, 3, 3, 2, 1, 3, 3, 3, 1, 2,\n",
       "         3, 1, 1, 3, 2, 3, 1, 3, 1, 2, 2, 3, 3, 3, 2, 3, 1, 1, 2, 1, 2, 3,\n",
       "         1, 3, 3, 1, 3, 1, 1, 3, 2, 2, 3, 3, 3, 1, 3, 2, 2, 3, 3, 1, 3, 2,\n",
       "         1, 2, 2, 2, 2, 1, 2, 3, 1, 3, 3, 2, 3, 2, 3, 2, 1, 3]],\n",
       "       dtype=uint8)}"
      ]
     },
     "execution_count": 224,
     "metadata": {},
     "output_type": "execute_result"
    }
   ],
   "source": [
    "data = scipy.io.loadmat('t017.mat') \n",
    "data2 = scipy.io.loadmat('t087.mat') \n",
    "data"
   ]
  },
  {
   "cell_type": "markdown",
   "id": "ba1808b4",
   "metadata": {},
   "source": [
    "### Data visualization\n",
    "#### I have run matlab file and recived this attachted figure for visualization\n",
    "\n",
    "clear all;\n",
    "clc; clear all; close all; \n",
    "\n",
    "Data=load ('t017.mat');  % struct double 512x512\n",
    "\n",
    "\n",
    "Data\n",
    "\n",
    "Data.mu\n",
    "\n",
    "plotclass(Data.mu, Data.Sigma);\n",
    "\n",
    "plot(Data.data(1, :), Data.data(2, :),  '.');\n",
    "\n",
    "<img  style='width:500px' src=\"figure.jpg\">"
   ]
  },
  {
   "cell_type": "markdown",
   "id": "2e61e8a9",
   "metadata": {},
   "source": [
    "### Data that have been used for "
   ]
  },
  {
   "cell_type": "code",
   "execution_count": 172,
   "id": "5e8f8cca",
   "metadata": {},
   "outputs": [
    {
     "data": {
      "text/html": [
       "<div>\n",
       "<style scoped>\n",
       "    .dataframe tbody tr th:only-of-type {\n",
       "        vertical-align: middle;\n",
       "    }\n",
       "\n",
       "    .dataframe tbody tr th {\n",
       "        vertical-align: top;\n",
       "    }\n",
       "\n",
       "    .dataframe thead th {\n",
       "        text-align: right;\n",
       "    }\n",
       "</style>\n",
       "<table border=\"1\" class=\"dataframe\">\n",
       "  <thead>\n",
       "    <tr style=\"text-align: right;\">\n",
       "      <th></th>\n",
       "      <th>data1</th>\n",
       "      <th>data2</th>\n",
       "      <th>class</th>\n",
       "    </tr>\n",
       "  </thead>\n",
       "  <tbody>\n",
       "    <tr>\n",
       "      <th>0</th>\n",
       "      <td>4.0</td>\n",
       "      <td>1.3</td>\n",
       "      <td>2</td>\n",
       "    </tr>\n",
       "    <tr>\n",
       "      <th>1</th>\n",
       "      <td>5.1</td>\n",
       "      <td>1.9</td>\n",
       "      <td>3</td>\n",
       "    </tr>\n",
       "    <tr>\n",
       "      <th>2</th>\n",
       "      <td>3.9</td>\n",
       "      <td>1.1</td>\n",
       "      <td>2</td>\n",
       "    </tr>\n",
       "    <tr>\n",
       "      <th>3</th>\n",
       "      <td>1.4</td>\n",
       "      <td>0.2</td>\n",
       "      <td>1</td>\n",
       "    </tr>\n",
       "    <tr>\n",
       "      <th>4</th>\n",
       "      <td>1.6</td>\n",
       "      <td>0.2</td>\n",
       "      <td>1</td>\n",
       "    </tr>\n",
       "    <tr>\n",
       "      <th>...</th>\n",
       "      <td>...</td>\n",
       "      <td>...</td>\n",
       "      <td>...</td>\n",
       "    </tr>\n",
       "    <tr>\n",
       "      <th>145</th>\n",
       "      <td>4.5</td>\n",
       "      <td>1.5</td>\n",
       "      <td>2</td>\n",
       "    </tr>\n",
       "    <tr>\n",
       "      <th>146</th>\n",
       "      <td>5.6</td>\n",
       "      <td>2.4</td>\n",
       "      <td>3</td>\n",
       "    </tr>\n",
       "    <tr>\n",
       "      <th>147</th>\n",
       "      <td>4.2</td>\n",
       "      <td>1.3</td>\n",
       "      <td>2</td>\n",
       "    </tr>\n",
       "    <tr>\n",
       "      <th>148</th>\n",
       "      <td>1.4</td>\n",
       "      <td>0.2</td>\n",
       "      <td>1</td>\n",
       "    </tr>\n",
       "    <tr>\n",
       "      <th>149</th>\n",
       "      <td>5.2</td>\n",
       "      <td>2.0</td>\n",
       "      <td>3</td>\n",
       "    </tr>\n",
       "  </tbody>\n",
       "</table>\n",
       "<p>150 rows × 3 columns</p>\n",
       "</div>"
      ],
      "text/plain": [
       "     data1  data2  class\n",
       "0      4.0    1.3      2\n",
       "1      5.1    1.9      3\n",
       "2      3.9    1.1      2\n",
       "3      1.4    0.2      1\n",
       "4      1.6    0.2      1\n",
       "..     ...    ...    ...\n",
       "145    4.5    1.5      2\n",
       "146    5.6    2.4      3\n",
       "147    4.2    1.3      2\n",
       "148    1.4    0.2      1\n",
       "149    5.2    2.0      3\n",
       "\n",
       "[150 rows x 3 columns]"
      ]
     },
     "execution_count": 172,
     "metadata": {},
     "output_type": "execute_result"
    }
   ],
   "source": [
    "d = {'data1': data['data'][0], 'data2': data['data'][1], 'class': data['classes'][0]}\n",
    "df = pd.DataFrame(data=d)\n",
    "df"
   ]
  },
  {
   "cell_type": "markdown",
   "id": "c353f24a",
   "metadata": {},
   "source": [
    "#### Getting MU value dataset"
   ]
  },
  {
   "cell_type": "code",
   "execution_count": 268,
   "id": "52e8007c",
   "metadata": {},
   "outputs": [
    {
     "name": "stdout",
     "output_type": "stream",
     "text": [
      "[1.452 4.332 5.544]\n",
      "[0.24  1.36  1.992]\n"
     ]
    }
   ],
   "source": [
    "print(data1['mu'][0])\n",
    "print(data1['mu'][1])"
   ]
  },
  {
   "cell_type": "markdown",
   "id": "77113661",
   "metadata": {},
   "source": [
    "#### Getting Sigma value form dataset"
   ]
  },
  {
   "cell_type": "code",
   "execution_count": 266,
   "id": "da1c889f",
   "metadata": {},
   "outputs": [
    {
     "name": "stdout",
     "output_type": "stream",
     "text": [
      "[[0.03010612 0.22081633 0.30458776]\n",
      " [0.00569796 0.07310204 0.04882449]]\n",
      "[[0.00569796 0.07310204 0.04882449]\n",
      " [0.01149388 0.03910612 0.07543265]]\n"
     ]
    }
   ],
   "source": [
    "print(data1['Sigma'][0])\n",
    "print(data1['Sigma'][1])"
   ]
  },
  {
   "cell_type": "code",
   "execution_count": 283,
   "id": "01118aaf",
   "metadata": {
    "scrolled": true
   },
   "outputs": [
    {
     "name": "stdout",
     "output_type": "stream",
     "text": [
      "Prior:  0.3333333333333333 0.3333333333333333 0.3333333333333333\n",
      "Test Data:  [[4.0, 1.3], [5.1, 1.9], [3.9, 1.1], [1.4, 0.2], [1.6, 0.2], [1.4, 0.1], [1.3, 0.2], [1.4, 0.2], [3.3, 1.0], [1.4, 0.2], [4.6, 1.4], [1.3, 0.2], [1.5, 0.4], [5.1, 1.8], [1.6, 0.6], [1.7, 0.2], [1.5, 0.2], [5.6, 2.4], [4.7, 1.6], [1.6, 0.2], [4.8, 1.8], [5.9, 2.3], [1.9, 0.2], [4.5, 1.5], [4.0, 1.0], [5.0, 1.7], [1.5, 0.2], [1.4, 0.2], [5.6, 1.4], [1.1, 0.1], [1.4, 0.3], [3.5, 1.0], [5.1, 2.0], [4.3, 1.3], [1.3, 0.3], [1.5, 0.1], [5.1, 2.4], [3.6, 1.3], [1.3, 0.3], [1.2, 0.2], [4.2, 1.5], [1.5, 0.1], [4.4, 1.2], [1.5, 0.2], [4.9, 1.5], [6.7, 2.2], [4.5, 1.5], [4.8, 1.4], [1.7, 0.5], [4.0, 1.3], [5.1, 1.9], [1.3, 0.4], [6.3, 1.8], [4.8, 1.8], [6.0, 2.5], [1.7, 0.4], [5.0, 1.5], [4.6, 1.5], [6.7, 2.0], [4.2, 1.3], [4.4, 1.3], [4.9, 1.8], [5.9, 2.1], [3.8, 1.1], [4.9, 1.8], [4.9, 1.5], [4.7, 1.4], [1.0, 0.2], [4.7, 1.5], [1.5, 0.4], [1.4, 0.2], [1.5, 0.4], [4.5, 1.6], [4.6, 1.3], [4.5, 1.5], [1.4, 0.2], [5.4, 2.1], [5.1, 1.5], [3.9, 1.2], [6.4, 2.0], [5.3, 2.3], [4.2, 1.2], [1.6, 0.2], [5.8, 1.6], [5.7, 2.5], [5.5, 2.1], [1.2, 0.2], [4.5, 1.3], [5.6, 2.1], [1.5, 0.2], [1.5, 0.1], [5.8, 1.8], [3.0, 1.1], [5.7, 2.3], [1.4, 0.3], [5.0, 2.0], [1.9, 0.4], [4.4, 1.4], [3.3, 1.0], [5.7, 2.1], [6.9, 2.3], [5.1, 2.3], [4.1, 1.0], [5.0, 1.9], [1.6, 0.2], [1.4, 0.3], [4.4, 1.4], [1.5, 0.3], [4.0, 1.2], [4.9, 2.0], [1.6, 0.4], [6.1, 2.3], [4.8, 1.8], [1.5, 0.1], [6.1, 1.9], [1.7, 0.3], [1.5, 0.2], [6.1, 2.5], [4.1, 1.3], [4.3, 1.3], [5.6, 1.8], [5.6, 2.2], [5.8, 2.2], [1.3, 0.2], [5.5, 1.8], [5.1, 1.6], [4.0, 1.3], [5.2, 2.3], [6.0, 1.8], [1.6, 0.2], [4.5, 1.7], [3.7, 1.0], [1.3, 0.2], [3.9, 1.4], [4.5, 1.5], [4.7, 1.4], [4.7, 1.2], [1.4, 0.2], [4.1, 1.3], [5.3, 1.9], [1.5, 0.2], [6.6, 2.1], [5.5, 1.8], [3.5, 1.0], [5.4, 2.3], [4.5, 1.5], [5.6, 2.4], [4.2, 1.3], [1.4, 0.2], [5.2, 2.0]]\n"
     ]
    }
   ],
   "source": [
    "# fit a probability distribution to a univariate data sample\n",
    "def fit_distribution(data):\n",
    "    # estimate parameters\n",
    "#     mu=data1['mu']\n",
    "    mu = mean(data)\n",
    "#     sigma = data1['Sigma']\n",
    "    sigma = std(data)\n",
    "#     print(mu, sigma)\n",
    "    # fit distribution\n",
    "    dist = norm(mu, sigma)\n",
    "    return dist\n",
    "\n",
    "# Data set\n",
    "X=df['data1']\n",
    "X2=df['data2']\n",
    "\n",
    "y=data1['classes'][0]\n",
    "\n",
    "# sort data into classes for data 1\n",
    "Xy1 = X[y == 1]\n",
    "Xy2 = X[y == 2]\n",
    "Xy3 = X[y == 3]\n",
    "\n",
    "\n",
    "# sort data into classes data 2\n",
    "X_2y1 = X2[y == 1]\n",
    "X_2y2 = X2[y == 2]\n",
    "X_2y3 = X2[y == 3]\n",
    "\n",
    "\n",
    "# calculate priors\n",
    "priory1 = len(Xy1) / len(X)\n",
    "priory2 = len(Xy2) / len(X)\n",
    "priory3 = len(Xy3) / len(X)\n",
    "print('Prior: ', priory1, priory3, priory3)\n",
    "\n",
    "\n",
    "# create PDFs for y==1\n",
    "X1y1 = fit_distribution(Xy1)\n",
    "X2y1 = fit_distribution(X_2y1)\n",
    "\n",
    "#create PDFs for y==2\n",
    "X1y2 = fit_distribution(Xy2)\n",
    "X2y2 = fit_distribution(X_2y2)\n",
    "\n",
    "# create PDFs for y==3\n",
    "X1y3 = fit_distribution(Xy3)\n",
    "X2y3 = fit_distribution(X_2y3)\n",
    "\n",
    "# calculate the independent conditional probability\n",
    "def probability(Xsample, prior, dist1, dist2):\n",
    "    return prior * dist1.pdf(Xsample[0]) * dist2.pdf(Xsample[1])\n",
    "\n",
    "def probmax(Xsample):\n",
    "    py1 = probability(Xsample, priory1, X1y1, X2y1 )*100\n",
    "    py2 = probability(Xsample, priory1, X1y2, X2y2 )*100\n",
    "    py3 = probability(Xsample, priory1, X1y3, X2y3)*100\n",
    "    \n",
    "#     print('P(y=1): ', py1)\n",
    "#     print('P(y=2): ', py2)\n",
    "#     print('P(y=3): ', py3)\n",
    "    \n",
    "    result=0    \n",
    "    if py1 > py2 and py1 > py3:\n",
    "        result=1\n",
    "    if py2 > py1 and py2 > py3:\n",
    "        result=2\n",
    "    if py3 > py1 and py3 > py2:\n",
    "        result=3       \n",
    "    return result\n",
    "\n",
    "\n",
    "prediction=[]\n",
    "test_data=[]\n",
    "for i in range(len(X)): \n",
    "    test_data.append([df['data1'][i],df['data2'][i]])\n",
    "    prediction.append(probmax([df['data1'][i], df['data2'][i]]))\n",
    "\n",
    "    \n",
    "print('Test Data: ',  test_data)   "
   ]
  },
  {
   "cell_type": "code",
   "execution_count": 285,
   "id": "9c14826e",
   "metadata": {},
   "outputs": [
    {
     "name": "stdout",
     "output_type": "stream",
     "text": [
      "Ture clasees:  [2 3 2 1 1 1 1 1 2 1 2 1 1 3 1 1 1 3 2 1 2 3 1 2 2 2 1 1 3 1 1 2 3 2 1 1 3\n",
      " 2 1 1 2 1 2 1 2 3 2 2 1 2 3 1 3 3 3 1 3 2 3 2 2 3 3 2 3 2 2 1 2 1 1 1 2 2\n",
      " 2 1 3 3 2 3 3 2 1 3 3 3 1 2 3 1 1 3 2 3 1 3 1 2 2 3 3 3 2 3 1 1 2 1 2 3 1\n",
      " 3 3 1 3 1 1 3 2 2 3 3 3 1 3 2 2 3 3 1 3 2 1 2 2 2 2 1 2 3 1 3 3 2 3 2 3 2\n",
      " 1 3]\n",
      "Predicted Classes:  [2 3 2 1 1 1 1 1 2 1 2 1 1 3 1 1 1 3 2 1 3 3 1 2 2 3 1 1 3 1 1 2 3 2 1 1 3\n",
      " 2 1 1 2 1 2 1 2 3 2 2 1 2 3 1 3 3 3 1 2 2 3 2 2 3 3 2 3 2 2 1 2 1 1 1 2 2\n",
      " 2 1 3 2 2 3 3 2 1 3 3 3 1 2 3 1 1 3 2 3 1 3 1 2 2 3 3 3 2 3 1 1 2 1 2 3 1\n",
      " 3 3 1 3 1 1 3 2 2 3 3 3 1 3 3 2 3 3 1 2 2 1 2 2 2 2 1 2 3 1 3 3 2 3 2 3 2\n",
      " 1 3]\n",
      "Predcition accuracy: 96.0 %\n"
     ]
    }
   ],
   "source": [
    "print('Ture clasees: ', y)\n",
    "print('Predicted Classes: ', np.array(prediction))\n",
    "print('Predcition accuracy:', accuracy_score(y, prediction)*100,'%')"
   ]
  },
  {
   "cell_type": "code",
   "execution_count": 270,
   "id": "b07999a3",
   "metadata": {},
   "outputs": [
    {
     "data": {
      "text/plain": [
       "<sklearn.metrics._plot.confusion_matrix.ConfusionMatrixDisplay at 0x203c5274790>"
      ]
     },
     "execution_count": 270,
     "metadata": {},
     "output_type": "execute_result"
    },
    {
     "data": {
      "image/png": "[encoded data removed]",
      "text/plain": [
       "<Figure size 432x288 with 2 Axes>"
      ]
     },
     "metadata": {
      "needs_background": "light"
     },
     "output_type": "display_data"
    }
   ],
   "source": [
    "#confusion matrix plor for three clasess, here 0=1, 1=2, 2=3 as class\n",
    "cm = confusion_matrix(y, prediction)\n",
    "disp = ConfusionMatrixDisplay(confusion_matrix=cm)\n",
    "disp.plot()"
   ]
  },
  {
   "cell_type": "markdown",
   "id": "3d775d10",
   "metadata": {},
   "source": [
    "#### Analysis:\n",
    "From confusion matrix we can see our First 'class1' has beeen predicted all rightly, Class2 has rightly predicted 47 and only missclassified 3 and finallly, class3 has rightly predicted 47 and missclassified 3."
   ]
  }
 ],
 "metadata": {
  "kernelspec": {
   "display_name": "Python 3 (ipykernel)",
   "language": "python",
   "name": "python3"
  },
  "language_info": {
   "codemirror_mode": {
    "name": "ipython",
    "version": 3
   },
   "file_extension": ".py",
   "mimetype": "text/x-python",
   "name": "python",
   "nbconvert_exporter": "python",
   "pygments_lexer": "ipython3",
   "version": "3.9.12"
  }
 },
 "nbformat": 4,
 "nbformat_minor": 5
}
